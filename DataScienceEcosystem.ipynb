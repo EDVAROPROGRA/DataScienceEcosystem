{
 "cells": [
  {
   "cell_type": "markdown",
   "metadata": {},
   "source": [
    "<center>\n",
    "    <img src=\"https://cf-courses-data.s3.us.cloud-object-storage.appdomain.cloud/IBMDeveloperSkillsNetwork-DS0105EN-SkillsNetwork/labs/Module2/images/SN_web_lightmode.png\" width=\"300\" alt=\"cognitiveclass.ai logo\">\n",
    "</center>\n"
   ]
  },
  {
   "cell_type": "markdown",
   "metadata": {},
   "source": [
    "#### Add your code below following the instructions given in the course\n"
   ]
  },
  {
   "cell_type": "code",
   "execution_count": null,
   "metadata": {},
   "outputs": [],
   "source": [
    "#Exercise 1: Create a Jupyter Notebook\n",
    "#Create a new Jupyter notebook called DataScienceEcosystem.ipynb"
   ]
  },
  {
   "cell_type": "code",
   "execution_count": null,
   "metadata": {},
   "outputs": [],
   "source": []
  },
  {
   "cell_type": "code",
   "execution_count": null,
   "metadata": {},
   "outputs": [],
   "source": [
    "#Exercise 2 - Create markdown cell with title of the notebook\n",
    "#Create a markdown cell with the title Data Science Tools and Ecosystem using H1 style heading.\n",
    "#Take a screenshot of the markdown cell and name it as 2-title.png\n"
   ]
  },
  {
   "cell_type": "markdown",
   "metadata": {},
   "source": [
    "# Data Science Tools and Ecosystem"
   ]
  },
  {
   "cell_type": "code",
   "execution_count": null,
   "metadata": {},
   "outputs": [],
   "source": [
    "#Exercise 3 - Create a markdown cell for an introduction\n",
    "#Write an introductory sentence about the notebook such as the follows:\n",
    "#In this notebook, Data Science Tools and Ecosystem are summarized.\n",
    "#Take a screenshot of the markdown cell and name it as 3-intro.png\n"
   ]
  },
  {
   "cell_type": "markdown",
   "metadata": {},
   "source": [
    "In this notebook, Data Science Tools and Ecosystem are summarized:\n",
    "\n",
    "You will learn the benefits of Python, R, SQL.\n",
    "And other common languages such as Java, Scala, C++, JavaScript, and Julia. \n",
    "You will explore how you can use these languages in Data Science.\n",
    "You will also look at some sites for more information about the languages. \n",
    "\n"
   ]
  },
  {
   "cell_type": "code",
   "execution_count": null,
   "metadata": {},
   "outputs": [],
   "source": [
    "#Exercise 4 - Create a markdown cell to list data science languages\n",
    "#Start the cell with an overview line such as:\n",
    "#Some of the popular languages that Data Scientists use are:\n",
    "#Then create an ordered list (i.e. numbered) listing 3 (or more) commonly used \n",
    "#languages for data science.\n",
    "#Take a screenshot of the markdown cell and name it as 4-dslanguages.png\n"
   ]
  },
  {
   "cell_type": "markdown",
   "metadata": {},
   "source": [
    "Some of the popular languages that Data Scientists use are:\n",
    "\n",
    "1. Python and R.\n",
    "2. SQL and Java.\n",
    "3. Julia and Scala.\n",
    "4. C/C++ and JavaScript."
   ]
  },
  {
   "cell_type": "code",
   "execution_count": null,
   "metadata": {},
   "outputs": [],
   "source": [
    "#Exercise 5 - Create a markdown cell to list data science libraries\n",
    "#Add an overview line to the cell like:\n",
    "#Some of the commonly used libraries used by Data Scientists include:\n",
    "#Below this line add an ordered list listing 3 (or more) commonly used libraries\n",
    "#in data science.\n",
    "#Take a screenshot of the markdown cell and name it as 5-dslibraries.png\n"
   ]
  },
  {
   "cell_type": "markdown",
   "metadata": {},
   "source": [
    "Some of the commonly used libraries used by Data Scientists include:\n",
    "\n",
    "1. TensorFlow.\n",
    "2. NumPy.\n",
    "3. SciPy.\n",
    "4. Pandas.\n",
    "5. Matplotlib.\n",
    "6. Keras.\n",
    "7. SciKit-Learn.\n",
    "8. PyTorch.\n"
   ]
  },
  {
   "cell_type": "code",
   "execution_count": null,
   "metadata": {},
   "outputs": [],
   "source": [
    "#Exercise 6 - Create a markdown cell with a table of Data Science tools\n",
    "#Create a single column table in this cell with the first row containing \n",
    "#the header Data Science Tools. The subsequent three rows in the table should indicate three\n",
    "#development environment open source tools used in data science.\n",
    "#Take a screenshot of the markdown cell and name it as 6-dstools.png\n",
    "#Hint: Refer to Lab: Using Markdowns in Jupyter Notebooks to create a table.\n"
   ]
  },
  {
   "cell_type": "markdown",
   "metadata": {},
   "source": [
    "| Data Science Tools |\n",
    "|:------------------:|\n",
    "|  Apache Spark      |\n",
    "|  SAS               |\n",
    "|  BigML             | \n"
   ]
  },
  {
   "cell_type": "code",
   "execution_count": null,
   "metadata": {},
   "outputs": [],
   "source": [
    "#Exercise 7 - Create a markdown cell introducing arithmetic expression examples\n",
    "#Add a line in this cell with H3 style heading with text like:\n",
    "#Below are a few examples of evaluating arithmetic expressions in Python.\n",
    "#Take a screenshot of the markdown cell and name it as 7-introarithmetic.png\n"
   ]
  },
  {
   "cell_type": "markdown",
   "metadata": {},
   "source": [
    "### Below are a few examples of evaluating arithmetic expressions in Python."
   ]
  },
  {
   "cell_type": "code",
   "execution_count": 2,
   "metadata": {},
   "outputs": [
    {
     "name": "stdout",
     "output_type": "stream",
     "text": [
      "La suma de los primeros 10  digitos es: 55\n"
     ]
    }
   ],
   "source": [
    "Suma = 1 + 2 + 3 + 4 + 5 + 6 + 7 + 8 + 9 + 10\n",
    "print(\"La suma de los primeros 10  digitos es:\", Suma)"
   ]
  },
  {
   "cell_type": "code",
   "execution_count": 3,
   "metadata": {},
   "outputs": [
    {
     "name": "stdout",
     "output_type": "stream",
     "text": [
      "El producto de los primeros 10  digitos es: 3628800\n"
     ]
    }
   ],
   "source": [
    "Producto = 1 * 2 * 3 * 4 * 5 * 6 * 7 * 8 * 9 * 10\n",
    "print(\"El producto de los primeros 10  digitos es:\", Producto)"
   ]
  },
  {
   "cell_type": "code",
   "execution_count": 4,
   "metadata": {},
   "outputs": [
    {
     "name": "stdout",
     "output_type": "stream",
     "text": [
      "La suma de 100 + 600, multipliada por 5 es: 3500\n"
     ]
    }
   ],
   "source": [
    "Sum_Prod = (100 + 600)*5\n",
    "print(\"La suma de 100 + 600, multipliada por 5 es:\", Sum_Prod)"
   ]
  },
  {
   "cell_type": "code",
   "execution_count": null,
   "metadata": {},
   "outputs": [],
   "source": [
    "#Exercise 8 - Create a code cell to multiply and add numbers\n",
    "#In this code cell evaluate the expression (3*4)+5.\n",
    "#Insert a comment line before the expression to explain the operation e.g.\n",
    "#This a simple arithmetic expression to mutiply then add integers.\n",
    "#Then execute the cell to ensure the expression returns the expected output of 17.\n",
    "#Take a screenshot of the code cell with output and name it as 8-multiplyandaddintegers.png"
   ]
  },
  {
   "cell_type": "markdown",
   "metadata": {},
   "source": [
    "This a simple arithmetic expression to mutiply then add integers."
   ]
  },
  {
   "cell_type": "code",
   "execution_count": 6,
   "metadata": {},
   "outputs": [
    {
     "name": "stdout",
     "output_type": "stream",
     "text": [
      "The result is:  17\n"
     ]
    }
   ],
   "source": [
    "mult_add = (3*4)+5\n",
    "print(\"The result is: \", mult_add)"
   ]
  },
  {
   "cell_type": "code",
   "execution_count": null,
   "metadata": {},
   "outputs": [],
   "source": [
    "#Exercise 9 - Create a code cell to convert minutes to hours\n",
    "#In this code cell write an expression that converts 200 minutes into hours.\n",
    "#Insert a comment line before the expression to explain the operation e.g.\n",
    "#This will convert 200 minutes to hours by diving by 60.\n",
    "#Run the cell to evaluate the expression.\n",
    "#Take a screenshot of the code cell with output and name it as 9-hourstominutes.png"
   ]
  },
  {
   "cell_type": "markdown",
   "metadata": {},
   "source": [
    "This will convert 200 minutes to hours by diving by 60"
   ]
  },
  {
   "cell_type": "code",
   "execution_count": 7,
   "metadata": {},
   "outputs": [
    {
     "name": "stdout",
     "output_type": "stream",
     "text": [
      "The convert is:  3.3333333333333335 hours\n"
     ]
    }
   ],
   "source": [
    "time_1 = 200\n",
    "time_2 = 60\n",
    "hours = time_1/time_2\n",
    "print(\"The convert is: \",hours, \"hours\")"
   ]
  },
  {
   "cell_type": "code",
   "execution_count": null,
   "metadata": {},
   "outputs": [],
   "source": [
    "#Exercise 10 - Insert a markdown cell to list Objectives\n",
    "#Below the introduction cell created in Exercise 3, insert a new markdown\n",
    "#cell to list the objectives that this notebook covered (i.e. some of the key takeaways from the\n",
    "#course). In this new cell start with an introductory line titled: Objectives:\n",
    "#in bold font. Then using an unordered list (bullets) indicate 3 to 5 items covered in this\n",
    "#notebook, such as List popular languages for Data Science.\n",
    "#Take a screenshot of the markdown cell and name it as 10-objectives.png"
   ]
  },
  {
   "cell_type": "markdown",
   "metadata": {},
   "source": [
    "**Objectives:**\n",
    "    \n",
    "- Overview of Data Science Tools\n",
    "- Languages of Data Science \n",
    "- Packages, APIs, Data Sets and Models \n",
    "- Jupyter Notebooks and JupyterLab \n",
    "- RStudio and GitHub \n",
    "- Final Project and Assessment "
   ]
  },
  {
   "cell_type": "code",
   "execution_count": null,
   "metadata": {},
   "outputs": [],
   "source": [
    "#Exercise 11 - Create a markdown cell to indicate the Author's name\n",
    "#In this markdown cell markdown cell include the following text Author in H2 style heading.\n",
    "#Include your name as regular text below the word Author.\n",
    "#Take a screenshot of the markdown cell and name it as 11-authordetails.png\n",
    "#Note: Save and download the notebook."
   ]
  },
  {
   "cell_type": "markdown",
   "metadata": {},
   "source": [
    "## Author\n",
    "Edgar"
   ]
  },
  {
   "cell_type": "code",
   "execution_count": null,
   "metadata": {},
   "outputs": [],
   "source": [
    "#Exercise 12 - Share your notebook through GitHub\n",
    "#Upload your notebook to a public respository on GitHub.\n",
    "#Note : Please keep the GitHub repo link of the notebook handy.\n",
    "#You will need to submit this link as a part of the assignment evaluation.\n",
    "#Hint: Refer to Lab: Working with files in Jupyter Notebooks to download the notebook from SN Labs.\n"
   ]
  },
  {
   "cell_type": "code",
   "execution_count": null,
   "metadata": {},
   "outputs": [],
   "source": []
  },
  {
   "cell_type": "code",
   "execution_count": null,
   "metadata": {},
   "outputs": [],
   "source": [
    "#Exercise 13 -Take a screenshot of the first page of the notebook and save it as 1-notebook.png\n",
    "#Refer to Hands-on Lab: Getting Started with GitHub to upload the downloaded notebook to GitHub.\n",
    "#abs\n"
   ]
  },
  {
   "cell_type": "code",
   "execution_count": null,
   "metadata": {},
   "outputs": [],
   "source": []
  }
 ],
 "metadata": {
  "kernelspec": {
   "display_name": "Python 3 (ipykernel)",
   "language": "python",
   "name": "python3"
  },
  "language_info": {
   "codemirror_mode": {
    "name": "ipython",
    "version": 3
   },
   "file_extension": ".py",
   "mimetype": "text/x-python",
   "name": "python",
   "nbconvert_exporter": "python",
   "pygments_lexer": "ipython3",
   "version": "3.9.7"
  }
 },
 "nbformat": 4,
 "nbformat_minor": 4
}
